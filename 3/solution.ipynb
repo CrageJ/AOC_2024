{
 "cells": [
  {
   "cell_type": "code",
   "execution_count": 131,
   "id": "15ad37bc-2c9b-443c-9068-a106c29c3017",
   "metadata": {},
   "outputs": [],
   "source": [
    "from collections import *\n",
    "import heapq\n",
    "\n",
    "data = None\n",
    "\n",
    "with open('input.txt', 'r') as file:\n",
    "    data = file.readlines()\n"
   ]
  },
  {
   "cell_type": "code",
   "execution_count": 132,
   "id": "0c6c770a-9699-4cc8-90f8-7d7937f72ad0",
   "metadata": {},
   "outputs": [],
   "source": [
    "import re\n",
    "def parse_line_1(line):\n",
    "    reg = 'mul\\(\\d+,\\d+\\)'\n",
    "    x = re.findall(reg,line)\n",
    "    return x\n",
    "\n",
    "def parse_mul(line):\n",
    "    reg = '\\d+'\n",
    "    x =re.findall(reg,line)\n",
    "    x = [int(v) for v in x]\n",
    "    return x[0]*x[1]"
   ]
  },
  {
   "cell_type": "code",
   "execution_count": 139,
   "id": "c83c5790-853e-4a63-8311-ca93450452ef",
   "metadata": {},
   "outputs": [
    {
     "name": "stdout",
     "output_type": "stream",
     "text": [
      "160672468\n"
     ]
    }
   ],
   "source": [
    "sum = 0\n",
    "for line in data:\n",
    "    p = parse_line_1(line)\n",
    "    for l in p:\n",
    "        sum += parse_mul(l)\n",
    "print(sum)\n",
    "\n"
   ]
  },
  {
   "cell_type": "code",
   "execution_count": 140,
   "id": "079b3f7d-7586-4fbe-9603-d020c721c18c",
   "metadata": {},
   "outputs": [],
   "source": [
    "def split_do(line):\n",
    "    reg = 'do\\(\\)'\n",
    "    x = re.split(reg,line)\n",
    "    return ''.join(x[1:])\n",
    "\n",
    "def split_dont(line):\n",
    "    reg = \"don't\\(\\)\"\n",
    "    x = re.split(reg,line)\n",
    "    return x"
   ]
  },
  {
   "cell_type": "code",
   "execution_count": 142,
   "id": "376ae027-6670-4007-8557-02e431961c55",
   "metadata": {},
   "outputs": [
    {
     "name": "stdout",
     "output_type": "stream",
     "text": [
      "84893551\n"
     ]
    }
   ],
   "source": [
    "sum2 = 0\n",
    "line = ''\n",
    "for l in data:\n",
    "    line += l\n",
    "line = 'do()'+line\n",
    "dos = split_dont(line)\n",
    "\n",
    "dos = [split_do(do) for do in dos]\n",
    "\n",
    "#print(dos)\n",
    "for d in dos:\n",
    "    for p in parse_line_1(d):\n",
    "        sum2 += parse_mul(p)\n",
    "print(sum2)\n"
   ]
  },
  {
   "cell_type": "code",
   "execution_count": null,
   "id": "b57f523a-e872-4fc9-bdb9-1f5d0a53ebb8",
   "metadata": {},
   "outputs": [],
   "source": []
  },
  {
   "cell_type": "code",
   "execution_count": null,
   "id": "36ae6894-c2a4-4621-b55b-c9df0bea1234",
   "metadata": {},
   "outputs": [],
   "source": [
    "93733733"
   ]
  }
 ],
 "metadata": {
  "kernelspec": {
   "display_name": "Python 3 (ipykernel)",
   "language": "python",
   "name": "python3"
  },
  "language_info": {
   "codemirror_mode": {
    "name": "ipython",
    "version": 3
   },
   "file_extension": ".py",
   "mimetype": "text/x-python",
   "name": "python",
   "nbconvert_exporter": "python",
   "pygments_lexer": "ipython3",
   "version": "3.10.15"
  }
 },
 "nbformat": 4,
 "nbformat_minor": 5
}
