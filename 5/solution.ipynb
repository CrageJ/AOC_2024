{
 "cells": [
  {
   "cell_type": "code",
   "execution_count": 161,
   "id": "92a64a29-ea52-478a-9cfb-b0c505c09d04",
   "metadata": {},
   "outputs": [],
   "source": [
    "from collections import *\n",
    "from heapq import *\n",
    "\n",
    "data = None\n",
    "\n",
    "with open('input.txt', 'r') as file:\n",
    "    data = file.readlines()\n",
    "    data = [d.strip() for d in data]\n",
    "#print(data)"
   ]
  },
  {
   "cell_type": "code",
   "execution_count": 162,
   "id": "fc2fb24e-e41f-4987-b69b-70621b7a1b5f",
   "metadata": {},
   "outputs": [],
   "source": [
    "page_order = [d.strip().split(\"|\") for d in data if \"|\" in d]\n",
    "books = [d.strip().split(\",\") for d in data if \",\" in d]"
   ]
  },
  {
   "cell_type": "code",
   "execution_count": 163,
   "id": "0cc762d5-ea65-4bb8-bb38-e4abac11d894",
   "metadata": {},
   "outputs": [],
   "source": [
    "adj = defaultdict(set)\n",
    "for order in page_order:\n",
    "    l,r = order\n",
    "    adj[l].add(r)"
   ]
  },
  {
   "cell_type": "code",
   "execution_count": 164,
   "id": "decc8eda-b446-4fbd-8dfc-26b15894b761",
   "metadata": {},
   "outputs": [
    {
     "name": "stdout",
     "output_type": "stream",
     "text": [
      "4766\n"
     ]
    }
   ],
   "source": [
    "from functools import *\n",
    "sum = 0\n",
    "\n",
    "for book in books:\n",
    "    found = True\n",
    "    for idx,a in enumerate(book):\n",
    "        for b in book[idx+1:]:\n",
    "            if a in adj[b]:\n",
    "                found = False\n",
    "                break\n",
    "                \n",
    "    middle = int(book[len(book)//2])\n",
    "    sum += middle*found\n",
    "print(sum)    "
   ]
  },
  {
   "cell_type": "code",
   "execution_count": 165,
   "id": "3b364cf8-9be7-42a5-b85e-6ec30dfb28fe",
   "metadata": {},
   "outputs": [
    {
     "name": "stdout",
     "output_type": "stream",
     "text": [
      "6257\n"
     ]
    }
   ],
   "source": [
    "sum = 0\n",
    "\n",
    "for book in books:\n",
    "    n =len(book)\n",
    "    order = []\n",
    "    candidates = set(book)\n",
    "    for _ in range(n):\n",
    "        candidate = None\n",
    "        for a in book:\n",
    "            if a not in candidates:\n",
    "                continue\n",
    "                \n",
    "            found = True\n",
    "            for b in book:\n",
    "                if b not in candidates or b == a:\n",
    "                    continue\n",
    "                if a in adj[b]:\n",
    "                    found = False\n",
    "                    break\n",
    "                    \n",
    "            if found:\n",
    "                candidate = a\n",
    "                break\n",
    "                \n",
    "        order.append(candidate)\n",
    "        candidates.remove(candidate)\n",
    "        \n",
    "    if book != order:\n",
    "        middle = int(order[n//2])\n",
    "        sum += middle\n",
    "    \n",
    "print(sum)    "
   ]
  },
  {
   "cell_type": "code",
   "execution_count": null,
   "id": "91ef5c7b-6b5d-4f56-88b0-094a66b5f956",
   "metadata": {},
   "outputs": [],
   "source": [
    "\n"
   ]
  },
  {
   "cell_type": "code",
   "execution_count": null,
   "id": "0df0f2b7-ecbc-48c4-8c19-26f02e3e03cc",
   "metadata": {},
   "outputs": [],
   "source": []
  }
 ],
 "metadata": {
  "kernelspec": {
   "display_name": "Python 3 (ipykernel)",
   "language": "python",
   "name": "python3"
  },
  "language_info": {
   "codemirror_mode": {
    "name": "ipython",
    "version": 3
   },
   "file_extension": ".py",
   "mimetype": "text/x-python",
   "name": "python",
   "nbconvert_exporter": "python",
   "pygments_lexer": "ipython3",
   "version": "3.10.15"
  }
 },
 "nbformat": 4,
 "nbformat_minor": 5
}
