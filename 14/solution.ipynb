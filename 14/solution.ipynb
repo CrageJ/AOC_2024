{
 "cells": [
  {
   "cell_type": "code",
   "execution_count": 62,
   "id": "efa9f23f-708f-4c3f-98e5-138dfce46009",
   "metadata": {},
   "outputs": [],
   "source": [
    "from collections import *\n",
    "from heapq import *\n",
    "from functools import *\n",
    "from math import *\n",
    "import numpy as np\n",
    "\n",
    "data = None\n",
    "\n",
    "with open('input.txt', 'r') as file:\n",
    "    data = file.readlines()\n",
    "    data = [d.strip() for d in data]\n",
    "   # print(data)"
   ]
  },
  {
   "cell_type": "code",
   "execution_count": 63,
   "id": "0c776771-cb6c-4e1c-a7f8-5ed6da3796c6",
   "metadata": {},
   "outputs": [],
   "source": [
    "robots_ = []\n",
    "for d in data:\n",
    "    sp = d.split()\n",
    "    startx,starty = sp[0].split(',')\n",
    "    startx = int(startx[2:])\n",
    "    starty = int(starty)\n",
    "    velocityx,velocityy = sp[1].split(',')\n",
    "    velocityx = int(velocityx[2:])\n",
    "    velocityy = int(velocityy)\n",
    "    robots_.append([startx,starty,velocityx,velocityy])\n",
    "    \n",
    "m,n = 103,101\n",
    "\n",
    "def printImage(robots):\n",
    "    board = [[' ' for i in range(n)] for j in range(m)]\n",
    "    for x,y,_,_ in robots:\n",
    "        board[y][x] = '#'\n",
    "    board = [''.join(s) for s in board]\n",
    "\n",
    "    found = False\n",
    "    for s in board:\n",
    "        if \"########\" in s:\n",
    "            found=True\n",
    "            break\n",
    "    if not found:\n",
    "        return\n",
    "    for row in board:\n",
    "        print(''.join(row))\n",
    "    print('')\n",
    "    \n",
    "def getMove(x,y,vx,vy):\n",
    "    return (x+vx)%n,(y+vy)%m"
   ]
  },
  {
   "cell_type": "code",
   "execution_count": 64,
   "id": "52bb36d3-2260-439b-8606-d555ad4942f4",
   "metadata": {},
   "outputs": [
    {
     "name": "stdout",
     "output_type": "stream",
     "text": [
      "216027840\n"
     ]
    }
   ],
   "source": [
    "import copy\n",
    "robots = copy.deepcopy(robots_)\n",
    "\n",
    "for sec in range(100):\n",
    "    newbots = []\n",
    "    for px,py,vx,vy in robots:\n",
    "        px,py = getMove(px,py,vx,vy)\n",
    "        newbots.append([px,py,vx,vy])\n",
    "    robots=newbots\n",
    "#  1|2\n",
    "# --- \n",
    "#  3|4\n",
    "q1,q2,q3,q4 = 0,0,0,0\n",
    "for x,y,_,__ in robots:\n",
    "    if x > n//2:\n",
    "        if y < m//2:\n",
    "            q2 += 1\n",
    "        if y > m//2:\n",
    "            q4 += 1\n",
    "    if x < n//2:\n",
    "        if y < m//2:\n",
    "            q1+= 1\n",
    "        if y > m//2:\n",
    "            q3 += 1\n",
    "prod = q1*q2*q3*q4\n",
    "            \n",
    "print(prod)\n",
    "    "
   ]
  },
  {
   "cell_type": "code",
   "execution_count": 65,
   "id": "10dadef6-7304-49a4-a9ae-50aefdea9fc7",
   "metadata": {},
   "outputs": [],
   "source": [
    "import copy\n",
    "robots = copy.deepcopy(robots_)\n",
    "with open('out.txt', 'w') as f:\n",
    "    with redirect_stdout(f):\n",
    "        for sec in range(1,10000):\n",
    "            newbots = []\n",
    "            for px,py,vx,vy in robots:\n",
    "                px,py = getMove(px,py,vx,vy)\n",
    "                newbots.append([px,py,vx,vy])\n",
    "            robots=newbots\n",
    "            print(\"------------------------\",sec)\n",
    "            printImage(robots)\n"
   ]
  },
  {
   "cell_type": "code",
   "execution_count": null,
   "id": "29ed5c06-1f54-4370-abe4-1556747b36ea",
   "metadata": {},
   "outputs": [],
   "source": []
  },
  {
   "cell_type": "code",
   "execution_count": 66,
   "id": "08b7d9df-2b0c-4443-822d-58f88c88038a",
   "metadata": {},
   "outputs": [],
   "source": [
    "import numpy as np\n",
    "import skimage\n",
    "from skimage import io, color\n",
    "from skimage.filters.rank import entropy\n",
    "from skimage.morphology import disk\n",
    "import matplotlib.pyplot as plt\n",
    "\n",
    "def getImage(robots):\n",
    "    board = [[0 for i in range(n)] for j in range(m)]\n",
    "    for x, y, _, _ in robots:\n",
    "        board[y][x] = 255\n",
    "    img = np.array(board, dtype=np.uint8)\n",
    "    return img\n",
    "\n",
    "def getEntropy(img):\n",
    "    selem = disk(3)\n",
    "    entropy_image = entropy(img, selem)\n",
    "    mean_entropy = np.mean(entropy_image)\n",
    "    return mean_entropy"
   ]
  },
  {
   "cell_type": "code",
   "execution_count": 72,
   "id": "5358f5cd-0fe8-4cb2-9a53-7183eea57c32",
   "metadata": {},
   "outputs": [
    {
     "name": "stdout",
     "output_type": "stream",
     "text": [
      "47.49012732505798\n",
      "(0.15206397379748104, 6876)\n"
     ]
    }
   ],
   "source": [
    "import time\n",
    "start = time.time()\n",
    "robots = copy.deepcopy(robots_)\n",
    "images = []\n",
    "for sec in range(1,10000):\n",
    "    newbots = []\n",
    "    for px,py,vx,vy in robots:\n",
    "        px,py = getMove(px,py,vx,vy)\n",
    "        newbots.append([px,py,vx,vy])\n",
    "    robots=newbots\n",
    "    img = getImage(robots)\n",
    "    e = getEntropy(img)\n",
    "    images.append((e,sec,img))\n",
    "images.sort(key=lambda x:x[0])\n",
    "end = time.time()\n",
    "print(end-start)\n",
    "print(images[0][:2])"
   ]
  },
  {
   "cell_type": "code",
   "execution_count": 68,
   "id": "55d19306-c87d-45f9-afa3-f3d5ec7d000d",
   "metadata": {},
   "outputs": [
    {
     "data": {
      "image/png": "[encoded data removed]",
      "text/plain": [
       "<Figure size 640x480 with 1 Axes>"
      ]
     },
     "metadata": {},
     "output_type": "display_data"
    }
   ],
   "source": [
    "plt.imshow(images[0][2], cmap='gray')            \n",
    "plt.show()"
   ]
  },
  {
   "cell_type": "code",
   "execution_count": null,
   "id": "054346c9-603f-439e-82e9-3122c21f0ded",
   "metadata": {},
   "outputs": [],
   "source": []
  },
  {
   "cell_type": "code",
   "execution_count": null,
   "id": "8b7587e6-4c4d-4e1e-8910-8c72fbe175af",
   "metadata": {},
   "outputs": [],
   "source": []
  }
 ],
 "metadata": {
  "kernelspec": {
   "display_name": "fastai",
   "language": "python",
   "name": "fastai"
  },
  "language_info": {
   "codemirror_mode": {
    "name": "ipython",
    "version": 3
   },
   "file_extension": ".py",
   "mimetype": "text/x-python",
   "name": "python",
   "nbconvert_exporter": "python",
   "pygments_lexer": "ipython3",
   "version": "3.9.21"
  }
 },
 "nbformat": 4,
 "nbformat_minor": 5
}
