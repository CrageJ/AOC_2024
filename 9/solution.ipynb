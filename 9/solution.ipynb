{
 "cells": [
  {
   "cell_type": "code",
   "execution_count": 74,
   "id": "7e41e160-b2ce-474c-abe6-5f6e2ed6f39a",
   "metadata": {},
   "outputs": [],
   "source": [
    "from collections import *\n",
    "from heapq import *\n",
    "\n",
    "data = None\n",
    "\n",
    "with open('input.txt', 'r') as file:\n",
    "    data = file.readlines()\n",
    "    data = [d.strip() for d in data]\n",
    "    data = data[0]\n",
    "    #for d in data:\n",
    "        #print(d)\n",
    "#print(data)"
   ]
  },
  {
   "cell_type": "code",
   "execution_count": 75,
   "id": "c486c3c6-d28b-4aeb-a2ab-8eb523705c93",
   "metadata": {},
   "outputs": [
    {
     "name": "stdout",
     "output_type": "stream",
     "text": [
      "6154342787400\n"
     ]
    }
   ],
   "source": [
    "sectors = [] #ID\n",
    "for idx,d in enumerate(data):\n",
    "    d = int(d)\n",
    "    if idx % 2 == 0:\n",
    "        sectorId= idx//2\n",
    "        sectors.extend([sectorId]*d)\n",
    "    else:\n",
    "        sectors.extend([-1]*d)\n",
    "lidx = 0\n",
    "ridx = len(sectors)-1\n",
    "while lidx < ridx:\n",
    "    if sectors[lidx] == -1:\n",
    "        while lidx < ridx and sectors[ridx] == -1:\n",
    "            ridx -= 1\n",
    "        sectors[lidx] = sectors[ridx]\n",
    "        sectors[ridx] = -1\n",
    "    lidx += 1\n",
    "#print(sectors)\n",
    "sum_p1 = sum([i*d for i,d in enumerate(sectors) if d != -1])\n",
    "print(sum_p1)"
   ]
  },
  {
   "cell_type": "code",
   "execution_count": 76,
   "id": "761699f2-2c65-4bd1-96c7-147d597bf5e6",
   "metadata": {},
   "outputs": [
    {
     "name": "stdout",
     "output_type": "stream",
     "text": [
      "6183632723350\n"
     ]
    }
   ],
   "source": [
    "occupied_sectors = [] # start,len,id\n",
    "unoccupied_sectors = [[] for i in range(10)] # [len] start # stores spaces\n",
    "reoccupied_sectors = [] # start,len,ID\n",
    "\n",
    "running_sectors = 0\n",
    "for idx,d in enumerate(data):\n",
    "    d = int(d)\n",
    "    if idx % 2 == 0:\n",
    "        sectorId= idx//2\n",
    "        start = running_sectors\n",
    "        occupied_sectors.append([start,d,sectorId])\n",
    "    else:\n",
    "        start = running_sectors\n",
    "        unoccupied_sectors[d].append(start)\n",
    "    running_sectors += d\n",
    "\n",
    "for i in range(10):\n",
    "    heapify(unoccupied_sectors[i])\n",
    "    \n",
    "\n",
    "#print(occupied_sectors)\n",
    "while occupied_sectors:\n",
    "    sector = occupied_sectors.pop()\n",
    "    start,length,id = sector\n",
    "    foundstart = start\n",
    "    foundlength = -1\n",
    "    for currlen in range(length,10):\n",
    "        if unoccupied_sectors[currlen]:\n",
    "            currstart = unoccupied_sectors[currlen][0]\n",
    "            if currstart<foundstart:\n",
    "                foundstart = currstart\n",
    "                foundlength=currlen\n",
    "    \n",
    "    if foundlength != -1:\n",
    "        #print(foundstart,foundlength)\n",
    "        reoccupied_sectors.append([foundstart,length,id])\n",
    "        heappop(unoccupied_sectors[foundlength])\n",
    "        sectorsdiff = foundlength - length\n",
    "        heappush(unoccupied_sectors[sectorsdiff],foundstart+length)\n",
    "    else:\n",
    "        reoccupied_sectors.append([start,length,id])\n",
    "    #print(unoccupied_sectors)\n",
    "   # print(reoccupied_sectors)\n",
    "#print(occupied_sectors)\n",
    "#print(unoccupied_sectors)\n",
    "#reoccupied_sectors.sort(key=lambda x:x[0])\n",
    "#print(\"\")\n",
    "#print(reoccupied_sectors)\n",
    "\n",
    "q2 = sum([i*id for s,l,id in reoccupied_sectors for i in range(s,s+l)])\n",
    "print(q2)\n"
   ]
  },
  {
   "cell_type": "code",
   "execution_count": null,
   "id": "de717d34-7f0c-4fae-9917-8efea2a0d847",
   "metadata": {},
   "outputs": [],
   "source": []
  },
  {
   "cell_type": "code",
   "execution_count": null,
   "id": "a0998fc8-0b73-4ae1-a906-648e99270dfd",
   "metadata": {},
   "outputs": [],
   "source": []
  }
 ],
 "metadata": {
  "kernelspec": {
   "display_name": "Python 3 (ipykernel)",
   "language": "python",
   "name": "python3"
  },
  "language_info": {
   "codemirror_mode": {
    "name": "ipython",
    "version": 3
   },
   "file_extension": ".py",
   "mimetype": "text/x-python",
   "name": "python",
   "nbconvert_exporter": "python",
   "pygments_lexer": "ipython3",
   "version": "3.10.15"
  }
 },
 "nbformat": 4,
 "nbformat_minor": 5
}
