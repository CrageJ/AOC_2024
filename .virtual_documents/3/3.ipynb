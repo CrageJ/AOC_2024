

content = get_input(2024, 3)[:-1]


def find_sum(content):
    sum = 0
    pattern = r'mul\(\d+,\d+\)'
    for match in re.findall(pattern, content):
        first, second = match.split(',')
        first = int(first[4:])
        second = int(second[:-1])
        sum += first * second
    return sum

res_b = 0
for section in re.split(r"(?=do|don't)", content):
    if section[:7] != "don't()":
        res_b += find_sum(section)
    
print(f'Part A: {find_sum(content)}')
print(f'Part B: {res_b}')
