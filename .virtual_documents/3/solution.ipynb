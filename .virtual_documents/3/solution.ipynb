from collections import *
import heapq

data = None

with open('input.txt', 'r') as file:
    data = file.readlines()



import re
def parse_line_1(line):
    reg = 'mul\(\d+,\d+\)'
    x = re.findall(reg,line)
    return x

def parse_mul(line):
    reg = '\d+'
    x =re.findall(reg,line)
    x = [int(v) for v in x]
    return x[0]*x[1]


sum = 0
for line in data:
    p = parse_line_1(line)
    for l in p:
        sum += parse_mul(l)
print(sum)




def split_do(line):
    reg = 'do\(\)'
    x = re.split(reg,line)
    return ''.join(x[1:])

def split_dont(line):
    reg = "don't\(\)"
    x = re.split(reg,line)
    return x


sum2 = 0
line = ''
for l in data:
    line += l
line = 'do()'+line
dos = split_dont(line)

dos = [split_do(do) for do in dos]

#print(dos)
for d in dos:
    for p in parse_line_1(d):
        sum2 += parse_mul(p)
print(sum2)






93733733
