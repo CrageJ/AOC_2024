data = None

with open('input.txt', 'r') as file:
    data = file.readlines()
    data = [d.strip().split() for d in data]
    data = [[int(s) for s in d] for d in data]
#print(data)


count = 0
for line in data:
    sortedline = sorted(line)
    if line == sortedline or line == sortedline[::-1]:
        truth = 1
        for l,r in zip(sortedline,sortedline[1:]):
            if not (l < r <= l+3):
                truth = 0
                break
        count += truth
print(count)


count = 0

def verify(list,childproblem):
    for idx,(l,r) in enumerate(zip(list,list[1:])):
        if not (l < r <= l+3):
            if childproblem:
                return False
            excludeleft = list[:idx]+list[idx+1:]
            excluderight = list[:idx+1]+list[idx+2:]
            return verify(excludeleft,True) or verify(excluderight,True)
    return True
for line in data:
    isValid = verify(line,False) or verify(line[::-1],False)
    count += isValid
print(count)



