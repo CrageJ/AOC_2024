{
 "cells": [
  {
   "cell_type": "code",
   "execution_count": null,
   "id": "5ce31b02-1f15-4ba8-ad03-27dfaafaf679",
   "metadata": {},
   "outputs": [],
   "source": [
    "from collections import *\n",
    "from heapq import *\n",
    "from functools import *\n",
    "\n",
    "data = None\n",
    "\n",
    "with open('input.txt', 'r') as file:\n",
    "    data = file.readlines()\n",
    "    data = [d.strip() for d in data]\n",
    "\n",
    "import re\n",
    "inp = []\n",
    "for i in range(0,len(data),4):\n",
    "    a = data[i]\n",
    "    b = data[i+1]\n",
    "    prize = data[i+2]\n",
    "    a = re.findall(r'\\d+',a)\n",
    "    b = re.findall(r'\\d+',b)\n",
    "    prize = re.findall(r'\\d+',prize)\n",
    "    a = [int(c) for c in a]\n",
    "    b = [int(c) for c in b]\n",
    "    prize = [int(c) for c in prize]\n",
    "    inp.append([a,b,prize])"
   ]
  },
  {
   "cell_type": "code",
   "execution_count": null,
   "id": "cdf223a2-e3f9-47ae-af87-5db4a2670b89",
   "metadata": {},
   "outputs": [],
   "source": [
    "import math\n",
    "sm = 0\n",
    "for a,b,prize in inp:\n",
    "    ax,ay = a\n",
    "    bx,by = b\n",
    "    px,py = prize\n",
    "    maxa = min(math.ceil(px/ax),math.ceil(py/ay))\n",
    "    coinMin = float(\"inf\")\n",
    "    for acount in range(0,maxa + 1):\n",
    "        currx,curry = acount*ax,acount*ay\n",
    "        targetx,targety = px-currx,py-curry\n",
    "        bcountx = targetx/bx\n",
    "        bcounty = targety/by\n",
    "        if bcountx==bcounty and bcountx%1 == 0:\n",
    "            coinMin = min(coinMin,acount*3+bcountx)\n",
    "            break\n",
    "    print(coinMin)\n",
    "    if coinMin != float(\"inf\"):  \n",
    "        sm += coinMin\n",
    "print(sm)\n",
    "    "
   ]
  },
  {
   "cell_type": "code",
   "execution_count": null,
   "id": "921eb342-00ea-4147-9dd0-cf38a622f61f",
   "metadata": {},
   "outputs": [],
   "source": []
  },
  {
   "cell_type": "code",
   "execution_count": 23,
   "id": "e824758f-952b-4ba3-9c47-64bafba3f43e",
   "metadata": {},
   "outputs": [
    {
     "name": "stdout",
     "output_type": "stream",
     "text": [
      "107824497933339\n"
     ]
    }
   ],
   "source": [
    "import math\n",
    "import numpy as np\n",
    "sm = 0\n",
    "for a,b,prize in inp:\n",
    "    ax,ay = a\n",
    "    bx,by = b\n",
    "    px,py = prize\n",
    "    detA = ax*by-bx*ay\n",
    "    invA = np.array([[by,-bx],[-ay,ax]])\n",
    "    B = np.array([px+10000000000000,py+10000000000000])\n",
    "    sol = invA.dot(B)\n",
    "    sola,solb = sol\n",
    "    if sola%detA==0 and solb%detA==0:\n",
    "        sola//=detA\n",
    "        solb//=detA\n",
    "        cost = (sola*3+solb*1)\n",
    "        sm += cost\n",
    "print(sm)\n",
    "    \n",
    "    "
   ]
  },
  {
   "cell_type": "code",
   "execution_count": null,
   "id": "73923734-817a-457b-a246-1b3946e1821a",
   "metadata": {},
   "outputs": [],
   "source": []
  }
 ],
 "metadata": {
  "kernelspec": {
   "display_name": "Python 3 (ipykernel)",
   "language": "python",
   "name": "python3"
  },
  "language_info": {
   "codemirror_mode": {
    "name": "ipython",
    "version": 3
   },
   "file_extension": ".py",
   "mimetype": "text/x-python",
   "name": "python",
   "nbconvert_exporter": "python",
   "pygments_lexer": "ipython3",
   "version": "3.10.15"
  }
 },
 "nbformat": 4,
 "nbformat_minor": 5
}
