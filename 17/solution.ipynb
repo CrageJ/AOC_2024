{
 "cells": [
  {
   "cell_type": "code",
   "execution_count": 224,
   "id": "294ff754-a6f3-41ed-bc11-160fed314a24",
   "metadata": {},
   "outputs": [
    {
     "name": "stdout",
     "output_type": "stream",
     "text": [
      "[24847151, 0, 0] [2, 4, 1, 5, 7, 5, 1, 6, 0, 3, 4, 0, 5, 5, 3, 0]\n"
     ]
    }
   ],
   "source": [
    "from collections import *\n",
    "from heapq import *\n",
    "from functools import *\n",
    "from math import *\n",
    "import numpy as np\n",
    "import copy\n",
    "import regex as re\n",
    "\n",
    "data = None\n",
    "\n",
    "\n",
    "a = 0\n",
    "b = 0\n",
    "c = 0\n",
    "instructions = []\n",
    "with open('input.txt', 'r') as file:\n",
    "    data = file.readlines()\n",
    "    data = ''.join([d.strip() for d in data])\n",
    "    data = re.findall(r\"\\d+\",data)\n",
    "    data = [int(d) for d in data]\n",
    "    a,b,c = data[:3]\n",
    "    instructions = data[3:]\n",
    "\n",
    "print(data[:3],instructions)"
   ]
  },
  {
   "cell_type": "code",
   "execution_count": 227,
   "id": "c65ac0e4-0a6e-477d-b9f2-7ecac21e67bf",
   "metadata": {},
   "outputs": [
    {
     "name": "stdout",
     "output_type": "stream",
     "text": [
      "7,3,1,3,6,3,6,0,2\n"
     ]
    }
   ],
   "source": [
    "def machine(a, b, c, instructions):\n",
    "    A, B, C = a, b, c\n",
    "    ptr = 0\n",
    "    n = len(instructions)\n",
    "    printstring = []\n",
    "\n",
    "    def adv(combo):\n",
    "        nonlocal A\n",
    "        A = A // (2 ** combo)\n",
    "\n",
    "    def bxl(literal):\n",
    "        nonlocal B\n",
    "        B = B ^ literal\n",
    "\n",
    "    def bst(combo):\n",
    "        nonlocal B\n",
    "        B = combo % 8\n",
    "\n",
    "    def jnz(literal):\n",
    "        nonlocal ptr, A\n",
    "        if A != 0:\n",
    "            ptr = literal - 2 \n",
    "\n",
    "    def bxc(_):\n",
    "        nonlocal B, C\n",
    "        B = C ^ B\n",
    "\n",
    "    def out(combo):\n",
    "        printstring.append(str(combo % 8))\n",
    "\n",
    "    def bdv(combo):\n",
    "        nonlocal B, A\n",
    "        B = A // (2 ** combo)\n",
    "\n",
    "    def cdv(combo):\n",
    "        nonlocal C, A\n",
    "        C = A // (2 ** combo)\n",
    "\n",
    "    ops = [adv,bxl,bst,jnz,bxc,out,bdv,cdv]\n",
    "    # 0 if combo,1 if literal\n",
    "    argtype = [0,1,0,1,0,0,0,0]\n",
    "        \n",
    "    def instruct(opcode,operand):\n",
    "        literal = operand\n",
    "        combo = operand\n",
    "        if operand == 4:\n",
    "            combo = A\n",
    "        elif operand == 5:\n",
    "            combo = B\n",
    "        elif operand == 6:\n",
    "            combo = C\n",
    "        code = ops[opcode]\n",
    "        rand = combo if argtype[opcode]==0 else operand\n",
    "        code(rand)\n",
    "\n",
    "    while ptr < n-1:\n",
    "        opcode,operand = instructions[ptr:ptr+2]\n",
    "        instruct(opcode,operand)\n",
    "        ptr += 2\n",
    "    return printstring\n",
    "\n",
    "s = machine(a,b,c,instructions)\n",
    "print(','.join(s))"
   ]
  },
  {
   "cell_type": "code",
   "execution_count": 228,
   "id": "e6020c8b-a995-4bf7-abfe-7890623660e1",
   "metadata": {},
   "outputs": [
    {
     "name": "stdout",
     "output_type": "stream",
     "text": [
      "105843716614554\n"
     ]
    }
   ],
   "source": [
    "def dfs(idx,sm):\n",
    "    if idx == -1:\n",
    "        return sm\n",
    "    target = instructions[idx]\n",
    "    for B_curr in range(0,8):\n",
    "        B = B_curr\n",
    "        A_curr = B + sm*8\n",
    "        B= (B^5)\n",
    "        C= A_curr//(2**B)\n",
    "        B=(B^6)\n",
    "        out = (C^B)%8\n",
    "        if out == target:\n",
    "            d = dfs(idx-1,A_curr)\n",
    "            if d != -1:\n",
    "                return d\n",
    "    return -1\n",
    "A = dfs(len(instructions)-1,0)\n",
    "print(A)"
   ]
  }
 ],
 "metadata": {
  "kernelspec": {
   "display_name": "Python 3 (ipykernel)",
   "language": "python",
   "name": "python3"
  },
  "language_info": {
   "codemirror_mode": {
    "name": "ipython",
    "version": 3
   },
   "file_extension": ".py",
   "mimetype": "text/x-python",
   "name": "python",
   "nbconvert_exporter": "python",
   "pygments_lexer": "ipython3",
   "version": "3.10.15"
  }
 },
 "nbformat": 4,
 "nbformat_minor": 5
}
