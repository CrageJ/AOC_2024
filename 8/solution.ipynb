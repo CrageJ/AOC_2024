{
 "cells": [
  {
   "cell_type": "code",
   "execution_count": 86,
   "id": "fe263e33-b009-40e8-b82e-505d76d69867",
   "metadata": {},
   "outputs": [],
   "source": [
    "from collections import defaultdict\n",
    "from heapq import *\n",
    "\n",
    "data = None\n",
    "\n",
    "with open('input.txt', 'r') as file:\n",
    "    data = file.readlines()\n",
    "    data = [d.strip() for d in data]\n",
    "    #for d in data:\n",
    "        #print(d)\n",
    "#print(data)"
   ]
  },
  {
   "cell_type": "code",
   "execution_count": 87,
   "id": "17415ec9-092f-44b4-9c8e-29a15242e58c",
   "metadata": {},
   "outputs": [],
   "source": [
    "antennaes = defaultdict(list)\n",
    "for yidx,row in enumerate(data):\n",
    "    for xidx,cell in enumerate(row):\n",
    "        if cell == '.':\n",
    "            continue\n",
    "        antennaes[cell].append((xidx,yidx))\n",
    "                               \n",
    "def printBoard(s=set()):\n",
    "    for yidx,row in enumerate(data):\n",
    "        arr = []\n",
    "        for xidx,cell in enumerate(row):\n",
    "            if cell == '.' and (xidx,yidx) in s:             \n",
    "                arr.append('#')\n",
    "            else:\n",
    "                arr.append(cell)\n",
    "        print(''.join(arr))\n",
    "#printBoard()"
   ]
  },
  {
   "cell_type": "code",
   "execution_count": 88,
   "id": "213746c4-edd5-453c-964e-c625cf6f2e9d",
   "metadata": {},
   "outputs": [
    {
     "name": "stdout",
     "output_type": "stream",
     "text": [
      "359\n"
     ]
    }
   ],
   "source": [
    "antinodes = defaultdict(set)\n",
    "for letter,l in antennaes.items():\n",
    "    l.sort(key=lambda x:(x[1],x[0]))\n",
    "    for aidx,(ax,ay) in enumerate(l):\n",
    "        for bidx,(bx,by) in enumerate(l[aidx+1:]):\n",
    "            pacey = abs(ay-by)\n",
    "            pacex = abs(ax-bx)\n",
    "            pace1 = None\n",
    "            pace2 = None\n",
    "            #if line goes backwards from a [ / ]\n",
    "            if bx < ax:\n",
    "                pace1 = (ax+pacex,ay-pacey)\n",
    "                pace2 = (bx-pacex,by+pacey)\n",
    "            else: # [ \\ ]\n",
    "                pace1 = (ax-pacex,ay-pacey)\n",
    "                pace2 = (bx+pacex,by+pacey)\n",
    "            antinodes[letter].add(pace1)\n",
    "            antinodes[letter].add(pace2)\n",
    "\n",
    "antinode_set = list(set([c for a,b in antinodes.items() for c in b]))\n",
    "m,n = len(data),len(data[0])\n",
    "antinode_p1 = [(x,y) for x,y in antinode_set if 0 <= x < n and 0 <= y < m]\n",
    "sm_p1 = len(antinode_p1)\n",
    "#print(antinode_p1)\n",
    "print(sm_p1)"
   ]
  },
  {
   "cell_type": "code",
   "execution_count": 89,
   "id": "a6aba82f-f6b7-405e-a6e0-8a11463c2e91",
   "metadata": {},
   "outputs": [
    {
     "name": "stdout",
     "output_type": "stream",
     "text": [
      "1293\n"
     ]
    }
   ],
   "source": [
    "antinodes = defaultdict(set)\n",
    "m,n = len(data),len(data[0])\n",
    "for letter,l in antennaes.items():\n",
    "    l.sort(key=lambda x:(x[1],x[0]))\n",
    "    for aidx,(ax,ay) in enumerate(l):\n",
    "        for bidx,(bx,by) in enumerate(l[aidx+1:]):\n",
    "            pacey = abs(ay-by)\n",
    "            pacex = abs(ax-bx)\n",
    "            pace1 = None\n",
    "            pace2 = None\n",
    "            #if line goes backwards from a [ / ]\n",
    "            if bx < ax:\n",
    "                #going up\n",
    "                currx,curry = ax,ay\n",
    "                while currx < n and curry >= 0:\n",
    "                    antinodes[letter].add((currx,curry))\n",
    "                    currx += pacex\n",
    "                    curry -= pacey\n",
    "                #going down\n",
    "                currx,curry = bx,by\n",
    "                while currx >= 0 and curry < m:\n",
    "                    antinodes[letter].add((currx,curry))\n",
    "                    currx -= pacex\n",
    "                    curry += pacey\n",
    "            else: # [ \\ ]\n",
    "                #going up\n",
    "                currx,curry = ax,ay\n",
    "                while currx >= 0 and curry >= 0:\n",
    "                    antinodes[letter].add((currx,curry))\n",
    "                    currx -= pacex\n",
    "                    curry -= pacey\n",
    "                #going down\n",
    "                currx,curry = bx,by\n",
    "                while currx < n and curry < m:\n",
    "                    antinodes[letter].add((currx,curry))\n",
    "                    currx += pacex\n",
    "                    curry += pacey\n",
    "            \n",
    "antinode_set = list(set([c for a,b in antinodes.items() for c in b]))\n",
    "antinode_p2 = antinode_set\n",
    "sm_p2 = len(antinode_p2)\n",
    "#print(antinode_p2)\n",
    "print(sm_p2)\n",
    "\n",
    "                \n",
    "    "
   ]
  }
 ],
 "metadata": {
  "kernelspec": {
   "display_name": "Python 3 (ipykernel)",
   "language": "python",
   "name": "python3"
  },
  "language_info": {
   "codemirror_mode": {
    "name": "ipython",
    "version": 3
   },
   "file_extension": ".py",
   "mimetype": "text/x-python",
   "name": "python",
   "nbconvert_exporter": "python",
   "pygments_lexer": "ipython3",
   "version": "3.10.15"
  }
 },
 "nbformat": 4,
 "nbformat_minor": 5
}
