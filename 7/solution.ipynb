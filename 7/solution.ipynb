{
 "cells": [
  {
   "cell_type": "code",
   "execution_count": 104,
   "id": "fbee74cf-cd80-4a7d-920e-0f2776a13d97",
   "metadata": {},
   "outputs": [],
   "source": [
    "from collections import *\n",
    "from heapq import *\n",
    "\n",
    "data = None\n",
    "\n",
    "with open('input.txt', 'r') as file:\n",
    "    data = file.readlines()\n",
    "    data = [d.strip().split(\":\") for d in data]\n",
    "    data = [[d[0],d[1].strip().split(\" \")] for d in data]\n",
    "    data = [[int(a),[int(v) for v in b]] for a,b in data]\n",
    "#print(data)"
   ]
  },
  {
   "cell_type": "code",
   "execution_count": 112,
   "id": "2547d0d2-b8f4-430c-b20b-1da3942f82ad",
   "metadata": {},
   "outputs": [
    {
     "name": "stdout",
     "output_type": "stream",
     "text": [
      "4122618559853\n"
     ]
    }
   ],
   "source": [
    "def generate_perm2(arr,idx,value,target):\n",
    "    def recur(idx,value):\n",
    "        if target < value:\n",
    "            return False\n",
    "        if idx >= len(arr):\n",
    "            return value == target\n",
    "        return concatperm or recur(idx+1,value+arr[idx]) or recur(idx+1,value*arr[idx]) \n",
    "    return recur(0,0)\n",
    "    \n",
    "\n",
    "valid_perms = [target for target,arr in data if generate_perm(arr,0,0,target)]\n",
    "print(sum(valid_perms))"
   ]
  },
  {
   "cell_type": "code",
   "execution_count": 113,
   "id": "575ddea8-f96a-41c6-980b-94e9e19e2ae0",
   "metadata": {},
   "outputs": [
    {
     "name": "stdout",
     "output_type": "stream",
     "text": [
      "227615740238334\n"
     ]
    }
   ],
   "source": [
    "import math\n",
    "def generate_perm2(arr,idx,value,target):\n",
    "    def recur(idx,value):\n",
    "        if target < value:\n",
    "            return False\n",
    "        if idx >= len(arr):\n",
    "            return value == target\n",
    "        concatperm = 0\n",
    "        largestExp = math.ceil(math.log10(arr[idx]+1))\n",
    "        concatperm = recur(idx+1,value*(10**largestExp)+arr[idx])\n",
    "        return concatperm or recur(idx+1,value+arr[idx]) or recur(idx+1,value*arr[idx]) \n",
    "    return recur(0,0)\n",
    "    \n",
    "\n",
    "valid_perms2 = [target for target,arr in data if generate_perm2(arr,0,0,target)]\n",
    "print(sum(valid_perms2))"
   ]
  }
 ],
 "metadata": {
  "kernelspec": {
   "display_name": "Python 3 (ipykernel)",
   "language": "python",
   "name": "python3"
  },
  "language_info": {
   "codemirror_mode": {
    "name": "ipython",
    "version": 3
   },
   "file_extension": ".py",
   "mimetype": "text/x-python",
   "name": "python",
   "nbconvert_exporter": "python",
   "pygments_lexer": "ipython3",
   "version": "3.10.15"
  }
 },
 "nbformat": 4,
 "nbformat_minor": 5
}
