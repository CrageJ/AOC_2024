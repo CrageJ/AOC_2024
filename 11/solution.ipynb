{
 "cells": [
  {
   "cell_type": "code",
   "execution_count": 1,
   "id": "7e8017c8-30dd-4625-991a-04c85b3199ee",
   "metadata": {},
   "outputs": [
    {
     "name": "stdout",
     "output_type": "stream",
     "text": [
      "[64554, 35, 906, 6, 6960985, 5755, 975820, 0]\n"
     ]
    }
   ],
   "source": [
    "from collections import *\n",
    "from heapq import *\n",
    "from functools import *\n",
    "\n",
    "data = None\n",
    "\n",
    "with open('input.txt', 'r') as file:\n",
    "    data = file.readlines()\n",
    "    data = data[0]\n",
    "    data = [int(d) for d in data.strip().split(\" \")]\n",
    "    print(data)"
   ]
  },
  {
   "cell_type": "code",
   "execution_count": 2,
   "id": "06cfa260-11b3-4268-be8e-a4a1a8409298",
   "metadata": {},
   "outputs": [
    {
     "name": "stdout",
     "output_type": "stream",
     "text": [
      "175006\n"
     ]
    }
   ],
   "source": [
    "import math\n",
    "@cache\n",
    "def blink(num):\n",
    "    if num == 0:\n",
    "        return [1]\n",
    "    digitcount = math.ceil(math.log10(num+1)) \n",
    "    if digitcount%2 == 0:\n",
    "        offset = 10**(digitcount//2)\n",
    "        left = num//offset\n",
    "        right = num%offset\n",
    "        return [left,right]\n",
    "    return [num*2024]\n",
    "\n",
    "row = data[:]\n",
    "for _ in range(25):    \n",
    "    row = [rock for r in row for rock in blink(r)]\n",
    "sm = len(row)\n",
    "print(sm)"
   ]
  },
  {
   "cell_type": "code",
   "execution_count": 4,
   "id": "fee11349-38cb-4074-bc5a-51b178466c75",
   "metadata": {},
   "outputs": [
    {
     "name": "stdout",
     "output_type": "stream",
     "text": [
      "207961583799296\n"
     ]
    }
   ],
   "source": [
    "rockpositions = defaultdict(int) \n",
    "for d in data:\n",
    "    rockpositions[d] += 1\n",
    "for _ in range(75):\n",
    "    newdict = defaultdict(int)\n",
    "    for r,f in rockpositions.items():\n",
    "        for rock in blink(r):\n",
    "            newdict[rock] += f\n",
    "    rockpositions = newdict\n",
    "sm = sum(rockpositions.values())\n",
    "print(sm)"
   ]
  }
 ],
 "metadata": {
  "kernelspec": {
   "display_name": "Python 3 (ipykernel)",
   "language": "python",
   "name": "python3"
  },
  "language_info": {
   "codemirror_mode": {
    "name": "ipython",
    "version": 3
   },
   "file_extension": ".py",
   "mimetype": "text/x-python",
   "name": "python",
   "nbconvert_exporter": "python",
   "pygments_lexer": "ipython3",
   "version": "3.10.15"
  }
 },
 "nbformat": 4,
 "nbformat_minor": 5
}
