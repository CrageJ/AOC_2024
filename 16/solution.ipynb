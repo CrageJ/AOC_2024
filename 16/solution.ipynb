{
 "cells": [
  {
   "cell_type": "code",
   "execution_count": 1,
   "id": "40742c2f-ecca-4f73-a0fd-a8028b902e3e",
   "metadata": {},
   "outputs": [],
   "source": [
    "from collections import *\n",
    "from heapq import *\n",
    "from functools import *\n",
    "from math import *\n",
    "import numpy as np\n",
    "import copy\n",
    "\n",
    "data = None\n",
    "\n",
    "with open('input.txt', 'r') as file:\n",
    "    data = file.readlines()\n",
    "    data = [d.strip() for d in data]\n",
    "#print(data)"
   ]
  },
  {
   "cell_type": "code",
   "execution_count": 2,
   "id": "61704509-8dad-4343-bae9-501560bb5e68",
   "metadata": {},
   "outputs": [
    {
     "name": "stdout",
     "output_type": "stream",
     "text": [
      "98520\n"
     ]
    }
   ],
   "source": [
    "def pathfind(grid):\n",
    "    ex,ey = 0,0\n",
    "    m,n = len(grid),len(grid[0])\n",
    "    def getCell(x,y):\n",
    "        if 0<= x < n and 0 <= y < m:\n",
    "            cell = grid[y][x]\n",
    "            if cell == 'S':\n",
    "                return '.'\n",
    "            return cell\n",
    "        return ' '\n",
    "    def findSE():\n",
    "        sx,sy,ex,ey = 0,0,0,0\n",
    "        for y,row in enumerate(grid):\n",
    "            for x,cell in enumerate(row):\n",
    "                if cell == \"S\":\n",
    "                    sx,sy = x,y\n",
    "                if cell == \"E\":\n",
    "                    ex,ey = x,y\n",
    "        return sx,sy,ex,ey\n",
    "        \n",
    "    sx,sy,ex,ey = findSE()\n",
    "    distance = defaultdict(lambda:float('inf'))\n",
    "    parents= defaultdict(list)\n",
    "    q = [(0,(sx,sy,1),(-1,-1,0))] #points,x,y,dir,parents\n",
    "    while q:\n",
    "        points = q[0][0]\n",
    "        while q and q[0][0]== points:\n",
    "            p,tup,parenttup = heappop(q)\n",
    "            x,y,d = tup\n",
    "            if p > distance[tup]:\n",
    "                continue\n",
    "            elif p == distance[tup]:\n",
    "                parents[tup].append(parenttup)\n",
    "                continue\n",
    "            parents[tup] = [parenttup]\n",
    "            distance[tup] = p\n",
    "            \n",
    "            directions = [(x,y-1),(x+1,y),(x,y+1),(x-1,y)]\n",
    "            forward = d\n",
    "            left = (d+1)%4\n",
    "            right = (d+3)%4\n",
    "            p += 1\n",
    "            f = [p,directions[forward],forward]\n",
    "            l = [p+1000,directions[left],left]\n",
    "            r = [p+1000,directions[right],right]\n",
    "            for tuppie in [f,l,r]:\n",
    "                np,(nx,ny),nd = tuppie\n",
    "                cell = getCell(nx,ny)\n",
    "                newtup = (nx,ny,nd)\n",
    "                if distance[newtup] < np:\n",
    "                    continue\n",
    "                if cell == \"#\":\n",
    "                    continue\n",
    "                heappush(q,(np,(nx,ny,nd),tup))\n",
    "        \n",
    "        #check if end is found\n",
    "        for i in range(4):\n",
    "            dirs = []\n",
    "            if distance[(ex,ey,i)] < float('inf'):\n",
    "                dirs.append(i)\n",
    "            if dirs:\n",
    "                return points,parents,(ex,ey),dirs\n",
    "    return -1,-1,(-1,-1)\n",
    "\n",
    "        \n",
    "                \n",
    "points,parents,(ex,ey),dirs = pathfind(data)\n",
    "print(points)#,parents)\n",
    "#print(parents)"
   ]
  },
  {
   "cell_type": "code",
   "execution_count": 4,
   "id": "8fd307ab-40de-4ce2-acd7-5cb0dc9bd872",
   "metadata": {},
   "outputs": [
    {
     "name": "stdout",
     "output_type": "stream",
     "text": [
      "609\n"
     ]
    }
   ],
   "source": [
    "endnodes = [(ex,ey,i) for i in dirs]\n",
    "seen = set()\n",
    "def recur(node):\n",
    "    x,y,d = node\n",
    "    if x == -1:\n",
    "        return\n",
    "    seen.add((x,y))\n",
    "    for neighbours in parents[node]:\n",
    "        recur(neighbours)\n",
    "for node in endnodes:\n",
    "    recur(node)\n",
    "\n",
    "print(len(seen))"
   ]
  }
 ],
 "metadata": {
  "kernelspec": {
   "display_name": "Python 3 (ipykernel)",
   "language": "python",
   "name": "python3"
  },
  "language_info": {
   "codemirror_mode": {
    "name": "ipython",
    "version": 3
   },
   "file_extension": ".py",
   "mimetype": "text/x-python",
   "name": "python",
   "nbconvert_exporter": "python",
   "pygments_lexer": "ipython3",
   "version": "3.10.15"
  }
 },
 "nbformat": 4,
 "nbformat_minor": 5
}
