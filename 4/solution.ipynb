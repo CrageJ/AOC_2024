{
 "cells": [
  {
   "cell_type": "code",
   "execution_count": 38,
   "id": "25cdd134-afaf-46f9-8bfa-8a21620267f6",
   "metadata": {},
   "outputs": [],
   "source": [
    "from collections import *\n",
    "import heapq\n",
    "\n",
    "data = None\n",
    "\n",
    "with open('input.txt', 'r') as file:\n",
    "    data = file.readlines()\n",
    "    data = [d.strip() for d in data]\n",
    "#print(data)"
   ]
  },
  {
   "cell_type": "code",
   "execution_count": 39,
   "id": "11624184-9fc4-40d6-a72b-19238ad89151",
   "metadata": {},
   "outputs": [],
   "source": [
    "m,n = len(data),len(data[0])\n",
    "#print(m,n)\n",
    "def getLetter(x,y):\n",
    "    if 0 <= x < n and 0 <= y < m:\n",
    "        return data[y][x]\n",
    "    return \" \"\n",
    "diagonals = [[1,1],[2,2],[3,3]]\n",
    "orthogonals =[[0,1],[0,2],[0,3]]\n",
    "\n",
    "ds = [[],[],[],[]]\n",
    "for da,db in diagonals:\n",
    "    for i,(dx,dy) in enumerate([[1,1],[-1,-1],[1,-1],[-1,1]]):\n",
    "        ds[i].append([da*dx,db*dy])\n",
    "do = [[],[],[],[]]\n",
    "for da,db in orthogonals:\n",
    "    #[a,b] : a = x or y,b = up or down \n",
    "    for i,(dx,dy) in enumerate([[1,1],[-1,-1],[1,-1],[-1,1]]):\n",
    "        value = db*dy\n",
    "        if dx == 1:\n",
    "            do[i].append([0,value])\n",
    "        else:\n",
    "            do[i].append([value,0])\n",
    "directions = ds + do\n",
    "#print(directions)"
   ]
  },
  {
   "cell_type": "code",
   "execution_count": 40,
   "id": "240ee74b-4608-4a98-a7d3-14366aac9523",
   "metadata": {},
   "outputs": [
    {
     "name": "stdout",
     "output_type": "stream",
     "text": [
      "2578\n"
     ]
    }
   ],
   "source": [
    "sum = 0\n",
    "for y in range(0,m):\n",
    "    for x in range(0,n):\n",
    "        if getLetter(x,y) != \"X\":\n",
    "            continue\n",
    "        for dir in directions:\n",
    "            s = \"\"\n",
    "            for dy,dx in dir:\n",
    "                s += getLetter(x + dx,y + dy)\n",
    "            #print(s)\n",
    "            if s == \"MAS\":\n",
    "                sum += 1\n",
    "print(sum)\n",
    "                "
   ]
  },
  {
   "cell_type": "code",
   "execution_count": 41,
   "id": "04fae4c4-0c82-45b1-897f-fba024370097",
   "metadata": {},
   "outputs": [
    {
     "name": "stdout",
     "output_type": "stream",
     "text": [
      "1972\n"
     ]
    }
   ],
   "source": [
    "sum = 0\n",
    "for y in range(0,m):\n",
    "    for x in range(0,n):\n",
    "        tl = getLetter(x,y) \n",
    "        if not (tl == \"M\" or tl == \"S\"):\n",
    "            continue\n",
    "        tl = getLetter(x,y)\n",
    "        tr = getLetter(x+2,y)\n",
    "        bl = getLetter(x,y+2)\n",
    "        br = getLetter(x+2,y+2)\n",
    "        middle = getLetter(x+1,y+1)\n",
    "        counter = Counter([tl,tr,bl,br])\n",
    "        if \"M\" not in counter or \"S\" not in counter:\n",
    "            continue\n",
    "        if counter[\"M\"] != 2 or counter[\"S\"] != 2:\n",
    "            continue\n",
    "        if middle != \"A\":\n",
    "            continue\n",
    "        if tl == br or bl == tr:\n",
    "            continue\n",
    "        sum += 1\n",
    "print(sum)"
   ]
  },
  {
   "cell_type": "code",
   "execution_count": null,
   "id": "2ea6a8f9-28d8-43ad-ad77-51fa35b385f7",
   "metadata": {},
   "outputs": [],
   "source": []
  }
 ],
 "metadata": {
  "kernelspec": {
   "display_name": "Python 3 (ipykernel)",
   "language": "python",
   "name": "python3"
  },
  "language_info": {
   "codemirror_mode": {
    "name": "ipython",
    "version": 3
   },
   "file_extension": ".py",
   "mimetype": "text/x-python",
   "name": "python",
   "nbconvert_exporter": "python",
   "pygments_lexer": "ipython3",
   "version": "3.10.15"
  }
 },
 "nbformat": 4,
 "nbformat_minor": 5
}
