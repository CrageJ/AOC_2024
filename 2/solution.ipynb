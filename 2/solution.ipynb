{
 "cells": [
  {
   "cell_type": "code",
   "execution_count": 18,
   "id": "df2847e9-deea-4b8a-82a0-cf3c93531eab",
   "metadata": {},
   "outputs": [],
   "source": [
    "data = None\n",
    "\n",
    "with open('input.txt', 'r') as file:\n",
    "    data = file.readlines()\n",
    "    data = [d.strip().split() for d in data]\n",
    "    data = [[int(s) for s in d] for d in data]\n",
    "#print(data)"
   ]
  },
  {
   "cell_type": "code",
   "execution_count": 19,
   "id": "e1c7f7a4-872b-4d6e-b19c-f506801207ac",
   "metadata": {},
   "outputs": [
    {
     "name": "stdout",
     "output_type": "stream",
     "text": [
      "379\n"
     ]
    }
   ],
   "source": [
    "count = 0\n",
    "for line in data:\n",
    "    sortedline = sorted(line)\n",
    "    if line == sortedline or line == sortedline[::-1]:\n",
    "        truth = 1\n",
    "        for l,r in zip(sortedline,sortedline[1:]):\n",
    "            if not (l < r <= l+3):\n",
    "                truth = 0\n",
    "                break\n",
    "        count += truth\n",
    "print(count)"
   ]
  },
  {
   "cell_type": "code",
   "execution_count": 21,
   "id": "32d20839-d12f-454b-b9f9-303ae0403ee1",
   "metadata": {},
   "outputs": [
    {
     "name": "stdout",
     "output_type": "stream",
     "text": [
      "430\n"
     ]
    }
   ],
   "source": [
    "count = 0\n",
    "\n",
    "def verify(list,childproblem):\n",
    "    for idx,(l,r) in enumerate(zip(list,list[1:])):\n",
    "        if not (l < r <= l+3):\n",
    "            if childproblem:\n",
    "                return False\n",
    "            excludeleft = list[:idx]+list[idx+1:]\n",
    "            excluderight = list[:idx+1]+list[idx+2:]\n",
    "            return verify(excludeleft,True) or verify(excluderight,True)\n",
    "    return True\n",
    "for line in data:\n",
    "    isValid = verify(line,False) or verify(line[::-1],False)\n",
    "    count += isValid\n",
    "print(count)"
   ]
  },
  {
   "cell_type": "code",
   "execution_count": null,
   "id": "1f45a604-9bfe-435b-b3dc-8f2e533fe0d5",
   "metadata": {},
   "outputs": [],
   "source": []
  }
 ],
 "metadata": {
  "kernelspec": {
   "display_name": "Python 3 (ipykernel)",
   "language": "python",
   "name": "python3"
  },
  "language_info": {
   "codemirror_mode": {
    "name": "ipython",
    "version": 3
   },
   "file_extension": ".py",
   "mimetype": "text/x-python",
   "name": "python",
   "nbconvert_exporter": "python",
   "pygments_lexer": "ipython3",
   "version": "3.10.15"
  }
 },
 "nbformat": 4,
 "nbformat_minor": 5
}
