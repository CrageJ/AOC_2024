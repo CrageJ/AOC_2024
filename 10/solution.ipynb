{
 "cells": [
  {
   "cell_type": "code",
   "execution_count": 44,
   "id": "3ad34308-4fa8-4787-9de4-d07f1fa79297",
   "metadata": {},
   "outputs": [],
   "source": [
    "from collections import *\n",
    "from heapq import *\n",
    "\n",
    "data = None\n",
    "\n",
    "with open('input.txt', 'r') as file:\n",
    "    data = file.readlines()\n",
    "    data = [d.strip() for d in data]\n",
    "    #for d in data:\n",
    "        #print(d)"
   ]
  },
  {
   "cell_type": "code",
   "execution_count": 45,
   "id": "a4eda27e-9053-4b62-962c-6e76ba470ff0",
   "metadata": {},
   "outputs": [],
   "source": [
    "n,m = len(data[0]),len(data)\n",
    "def getPosition(x,y):\n",
    "    if 0 <= x < n and 0<= y < m:\n",
    "        return int(data[y][x]) if data[y][x] != '.' else -1\n",
    "    return -1\n",
    "    \n",
    "q0 = []\n",
    "for yidx,row in enumerate(data):\n",
    "    for xidx,cell in enumerate(row):\n",
    "        if getPosition(xidx,yidx) == 0:\n",
    "            q0.append((xidx,yidx))"
   ]
  },
  {
   "cell_type": "code",
   "execution_count": 47,
   "id": "6b8a8803-ea7c-4a1d-b578-77fb64c53556",
   "metadata": {},
   "outputs": [
    {
     "name": "stdout",
     "output_type": "stream",
     "text": [
      "754\n"
     ]
    }
   ],
   "source": [
    "sm = 0\n",
    "for item in q0:\n",
    "    q = [item]\n",
    "    for level in range(1,10):\n",
    "        newq = set()\n",
    "        for x,y in q:\n",
    "            for nx,ny in [[1+x,y],[x-1,y],[x,y+1],[x,y-1]]:\n",
    "                if getPosition(nx,ny) == level:\n",
    "                    newq.add((nx,ny))\n",
    "        lisq = list(newq)\n",
    "        q = lisq\n",
    "    lenq = len(q)\n",
    "    sm += lenq\n",
    "print(sm)"
   ]
  },
  {
   "cell_type": "code",
   "execution_count": 48,
   "id": "02b8cd76-4e57-4bcf-b2dd-6b00c0e03be2",
   "metadata": {},
   "outputs": [
    {
     "name": "stdout",
     "output_type": "stream",
     "text": [
      "1609\n"
     ]
    }
   ],
   "source": [
    "sm = 0\n",
    "for xitem,yitem in q0:\n",
    "    q = [(xitem,yitem,1)]\n",
    "    for level in range(1,10):\n",
    "        newq = defaultdict(int)\n",
    "        for x,y,perms in q:\n",
    "            routes = []\n",
    "            for nx,ny in [[1+x,y],[x-1,y],[x,y+1],[x,y-1]]:\n",
    "                if getPosition(nx,ny) == level:\n",
    "                    routes.append((nx,ny))\n",
    "            for routex,routey in routes:\n",
    "                newq[(routex,routey)] += perms\n",
    "        nq = []\n",
    "        for (px,py),perm in newq.items():\n",
    "            nq.append((px,py,perm))\n",
    "        q = nq\n",
    "    paths = sum([p for x,y,p in q])\n",
    "    sm += paths\n",
    "print(sm)\n"
   ]
  },
  {
   "cell_type": "code",
   "execution_count": null,
   "id": "d73d97ba-311b-42f0-adc0-d6da9c2967e0",
   "metadata": {},
   "outputs": [],
   "source": []
  }
 ],
 "metadata": {
  "kernelspec": {
   "display_name": "Python 3 (ipykernel)",
   "language": "python",
   "name": "python3"
  },
  "language_info": {
   "codemirror_mode": {
    "name": "ipython",
    "version": 3
   },
   "file_extension": ".py",
   "mimetype": "text/x-python",
   "name": "python",
   "nbconvert_exporter": "python",
   "pygments_lexer": "ipython3",
   "version": "3.10.15"
  }
 },
 "nbformat": 4,
 "nbformat_minor": 5
}
