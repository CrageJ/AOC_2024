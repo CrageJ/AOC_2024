{
 "cells": [
  {
   "cell_type": "code",
   "execution_count": 37,
   "id": "05635032-a8b5-4b05-a12c-54f78fa9fa34",
   "metadata": {},
   "outputs": [],
   "source": [
    "from collections import *\n",
    "from heapq import *\n",
    "from functools import *\n",
    "from math import *\n",
    "import numpy as np\n",
    "import copy\n",
    "import time\n",
    "\n",
    "data = None\n",
    "towels = []\n",
    "targets = []\n",
    "with open('input.txt', 'r') as file:\n",
    "    data = file.readlines()\n",
    "    data = [d.strip() for d in data]\n",
    "    towels = data[0].split(\", \")\n",
    "    targets = data[2:]\n",
    "#print(data)"
   ]
  },
  {
   "cell_type": "code",
   "execution_count": 41,
   "id": "0c6fd81c-3972-4743-98da-05cdcc4fbfbf",
   "metadata": {},
   "outputs": [
    {
     "name": "stdout",
     "output_type": "stream",
     "text": [
      "338\n",
      "841533074412361\n"
     ]
    }
   ],
   "source": [
    "class TrieNode:\n",
    "    def __init__(self):\n",
    "        self.children = defaultdict(TrieNode)\n",
    "        self.isTowel = False\n",
    "    def setTowel(self):\n",
    "        self.isTowel=True\n",
    "    def getTowel(self):\n",
    "        return self.isTowel\n",
    "class Trie:\n",
    "    def __init__(self):\n",
    "        self.root = TrieNode()\n",
    "    def insert(self,s):\n",
    "        curr = self.root\n",
    "        for c in s:\n",
    "            curr = curr.children[c]\n",
    "        curr.setTowel()\n",
    "    @cache\n",
    "    def search(self, s, root=None):\n",
    "        if root is None:\n",
    "            root = self.root\n",
    "        curr = root\n",
    "        count = 0\n",
    "        for idx, c in enumerate(s):\n",
    "            if curr.getTowel():\n",
    "                searchCount = self.search(s[idx:], root=self.root)\n",
    "                count += searchCount\n",
    "            if c not in curr.children:\n",
    "                return count\n",
    "            curr = curr.children[c]\n",
    "        return int(curr.getTowel()) + count\n",
    "\n",
    "t = Trie()\n",
    "for towel in towels:\n",
    "    t.insert(towel)\n",
    "possible = [t.search(target) for target in targets if t.search(target) > 0]\n",
    "\n",
    "print(len(possible))\n",
    "print(sum(possible))    "
   ]
  },
  {
   "cell_type": "code",
   "execution_count": null,
   "id": "fb5998a2-778f-4d98-a9e2-00e21c7f6ad0",
   "metadata": {},
   "outputs": [],
   "source": []
  }
 ],
 "metadata": {
  "kernelspec": {
   "display_name": "Python 3 (ipykernel)",
   "language": "python",
   "name": "python3"
  },
  "language_info": {
   "codemirror_mode": {
    "name": "ipython",
    "version": 3
   },
   "file_extension": ".py",
   "mimetype": "text/x-python",
   "name": "python",
   "nbconvert_exporter": "python",
   "pygments_lexer": "ipython3",
   "version": "3.10.15"
  }
 },
 "nbformat": 4,
 "nbformat_minor": 5
}
