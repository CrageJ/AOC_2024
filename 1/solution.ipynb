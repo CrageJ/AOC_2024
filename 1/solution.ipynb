{
 "cells": [
  {
   "cell_type": "code",
   "execution_count": 131,
   "id": "15ad37bc-2c9b-443c-9068-a106c29c3017",
   "metadata": {},
   "outputs": [],
   "source": [
    "data = None\n",
    "\n",
    "with open('input.txt', 'r') as file:\n",
    "    data = file.readlines()\n",
    "    data = [d.strip().split() for d in data]\n",
    "    data = [[int(s) for s in d] for d in data]\n",
    "#print(data)"
   ]
  },
  {
   "cell_type": "code",
   "execution_count": 133,
   "id": "0c6c770a-9699-4cc8-90f8-7d7937f72ad0",
   "metadata": {},
   "outputs": [],
   "source": [
    "l = [l for l,r in data]\n",
    "r = [r for l,r in data]\n",
    "l.sort()\n",
    "r.sort()"
   ]
  },
  {
   "cell_type": "code",
   "execution_count": 135,
   "id": "c83c5790-853e-4a63-8311-ca93450452ef",
   "metadata": {},
   "outputs": [
    {
     "name": "stdout",
     "output_type": "stream",
     "text": [
      "1590491\n"
     ]
    }
   ],
   "source": [
    "distance = [abs(l - r) for l,r in zip(l,r)]\n",
    "print(sum(distance))"
   ]
  },
  {
   "cell_type": "code",
   "execution_count": 137,
   "id": "079b3f7d-7586-4fbe-9603-d020c721c18c",
   "metadata": {},
   "outputs": [],
   "source": [
    "from collections import Counter"
   ]
  },
  {
   "cell_type": "code",
   "execution_count": 139,
   "id": "376ae027-6670-4007-8557-02e431961c55",
   "metadata": {},
   "outputs": [
    {
     "name": "stdout",
     "output_type": "stream",
     "text": [
      "22588371\n"
     ]
    }
   ],
   "source": [
    "l_freq = Counter(l)\n",
    "r_freq = Counter(r)\n",
    "sm = 0\n",
    "for v,f in l_freq.items():\n",
    "    if v in r_freq:\n",
    "        sm += f * v  * r_freq[v]\n",
    "print(sm)"
   ]
  },
  {
   "cell_type": "code",
   "execution_count": null,
   "id": "b57f523a-e872-4fc9-bdb9-1f5d0a53ebb8",
   "metadata": {},
   "outputs": [],
   "source": []
  },
  {
   "cell_type": "code",
   "execution_count": null,
   "id": "36ae6894-c2a4-4621-b55b-c9df0bea1234",
   "metadata": {},
   "outputs": [],
   "source": []
  }
 ],
 "metadata": {
  "kernelspec": {
   "display_name": "Python 3 (ipykernel)",
   "language": "python",
   "name": "python3"
  },
  "language_info": {
   "codemirror_mode": {
    "name": "ipython",
    "version": 3
   },
   "file_extension": ".py",
   "mimetype": "text/x-python",
   "name": "python",
   "nbconvert_exporter": "python",
   "pygments_lexer": "ipython3",
   "version": "3.10.15"
  }
 },
 "nbformat": 4,
 "nbformat_minor": 5
}
