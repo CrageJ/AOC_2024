{
 "cells": [
  {
   "cell_type": "code",
   "execution_count": 76,
   "id": "aaa9c702-82c8-4095-b291-7b01199066bd",
   "metadata": {},
   "outputs": [],
   "source": [
    "from collections import *\n",
    "from heapq import *\n",
    "\n",
    "data = None\n",
    "\n",
    "with open('input.txt', 'r') as file:\n",
    "    data = file.readlines()\n",
    "    data = [d.strip() for d in data]\n",
    "#print(data)"
   ]
  },
  {
   "cell_type": "code",
   "execution_count": 77,
   "id": "ea89683a-a183-4f8e-bb67-3dfe0ecd0a89",
   "metadata": {},
   "outputs": [
    {
     "name": "stdout",
     "output_type": "stream",
     "text": [
      "4967\n"
     ]
    }
   ],
   "source": [
    "initialx,initialy = 0,0\n",
    "direction = 0 #0,1,2,3 = up,right,down,left\n",
    "m,n = len(data),len(data[0])\n",
    "for yidx,row in enumerate(data):\n",
    "    for xidx,cell in enumerate(row):\n",
    "        if cell == \"^\":\n",
    "            initialx,initialy = xidx,yidx\n",
    "posx,posy = initialx,initialy\n",
    "\n",
    "direction = 0 #0,1,2,3 = up,right,down,left\n",
    "m,n = len(data),len(data[0])\n",
    "\n",
    "def getPlace(x,y):\n",
    "    if 0 <= x < n and 0 <= y < m:\n",
    "        return int(data[y][x] == '#')\n",
    "    return -1\n",
    "\n",
    "visits = set()\n",
    "while True:\n",
    "    visits.add((posx,posy))\n",
    "    newx,newy = 0,0\n",
    "    if direction == 0:\n",
    "        newx,newy=posx,posy-1\n",
    "    elif direction == 1:\n",
    "        newx,newy=posx+1,posy\n",
    "    elif direction == 2:\n",
    "        newx,newy=posx,posy+1\n",
    "    elif direction == 3:\n",
    "        newx,newy=posx-1,posy\n",
    "    \n",
    "    newplace = getPlace(newx,newy)\n",
    "    if newplace == -1:\n",
    "        break\n",
    "    if newplace == 1:\n",
    "        direction += 1\n",
    "        direction %= 4\n",
    "        continue\n",
    "    posx,posy=newx,newy\n",
    "\n",
    "def printBoard():\n",
    "    arr = []\n",
    "    for yidx,row in enumerate(data):\n",
    "        r = []\n",
    "        for xidx,cell in enumerate(row):\n",
    "            if (xidx,yidx) in visits:\n",
    "                r.append('X')\n",
    "            else:\n",
    "                r.append(data[yidx][xidx])\n",
    "        print(''.join(r))\n",
    "    print(\" \")\n",
    "    \n",
    "nums = len(visits)\n",
    "print(nums)"
   ]
  },
  {
   "cell_type": "code",
   "execution_count": 75,
   "id": "72bb6d69-f797-4265-ac10-7210a3fb7d33",
   "metadata": {},
   "outputs": [
    {
     "name": "stdout",
     "output_type": "stream",
     "text": [
      "....#.....\n",
      ".........#\n",
      "..........\n",
      "..#.......\n",
      ".......#..\n",
      "..........\n",
      ".#..^.....\n",
      "........#.\n",
      "#.........\n",
      "......#...\n",
      " \n",
      "6\n"
     ]
    }
   ],
   "source": [
    "sm = 0\n",
    "visits = set()\n",
    "printBoard()\n",
    "for yidx, row in enumerate(data):\n",
    "    for xidx, cell in enumerate(row):\n",
    "        if cell == \"#\" or cell == '^':\n",
    "            continue\n",
    "        data[yidx] = row[0:xidx]+'#'+row[xidx+1:]\n",
    "        posx,posy = initialx,initialy\n",
    "        direction = 0\n",
    "        visits = set()\n",
    "        isLooping = False\n",
    "        while True:\n",
    "            tup = (posx,posy,direction)\n",
    "            if tup in visits:\n",
    "                isLooping=True\n",
    "                break\n",
    "            visits.add(tup)\n",
    "            newx,newy = 0,0\n",
    "            if direction == 0:\n",
    "                newx,newy=posx,posy-1\n",
    "            elif direction == 1:\n",
    "                newx,newy=posx+1,posy\n",
    "            elif direction == 2:\n",
    "                newx,newy=posx,posy+1\n",
    "            elif direction == 3:\n",
    "                newx,newy=posx-1,posy\n",
    "            \n",
    "            newplace = getPlace(newx,newy)\n",
    "            if newplace == -1:\n",
    "                break\n",
    "            if newplace == 1:\n",
    "                direction += 1\n",
    "                direction %= 4\n",
    "                continue\n",
    "            posx,posy=newx,newy\n",
    "        data[yidx] = row[0:xidx]+'.'+row[xidx+1:]\n",
    "        visits = set([(a,b) for a,b,c in list(visits)])\n",
    "        if isLooping:\n",
    "            #print(\"found \",xidx,yidx)\n",
    "            sm += 1\n",
    "        #printBoard()\n",
    "        \n",
    "        \n",
    "        \n",
    "\n",
    "\n",
    "print(sm)"
   ]
  },
  {
   "cell_type": "code",
   "execution_count": null,
   "id": "e7cdd9e8-3312-4439-822e-69f1c212f1f8",
   "metadata": {},
   "outputs": [],
   "source": [
    "\n"
   ]
  },
  {
   "cell_type": "code",
   "execution_count": null,
   "id": "539eab8b-d538-4045-acd8-6ed9697989dd",
   "metadata": {},
   "outputs": [],
   "source": []
  }
 ],
 "metadata": {
  "kernelspec": {
   "display_name": "Python 3 (ipykernel)",
   "language": "python",
   "name": "python3"
  },
  "language_info": {
   "codemirror_mode": {
    "name": "ipython",
    "version": 3
   },
   "file_extension": ".py",
   "mimetype": "text/x-python",
   "name": "python",
   "nbconvert_exporter": "python",
   "pygments_lexer": "ipython3",
   "version": "3.10.15"
  }
 },
 "nbformat": 4,
 "nbformat_minor": 5
}
