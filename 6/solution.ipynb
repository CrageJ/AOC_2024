{
 "cells": [
  {
   "cell_type": "code",
   "execution_count": 1,
   "id": "aaa9c702-82c8-4095-b291-7b01199066bd",
   "metadata": {},
   "outputs": [],
   "source": [
    "from collections import *\n",
    "from heapq import *\n",
    "\n",
    "data = None\n",
    "\n",
    "with open('input.txt', 'r') as file:\n",
    "    data = file.readlines()\n",
    "    data = [d.strip() for d in data]\n",
    "#print(data)\n",
    "def printBoard():\n",
    "    arr = []\n",
    "    for yidx,row in enumerate(data):\n",
    "        r = []\n",
    "        for xidx,cell in enumerate(row):\n",
    "            if (xidx,yidx) in visits:\n",
    "                r.append('X')\n",
    "            else:\n",
    "                r.append(data[yidx][xidx])\n",
    "        print(''.join(r))\n",
    "    print(\" \")"
   ]
  },
  {
   "cell_type": "code",
   "execution_count": 2,
   "id": "ea89683a-a183-4f8e-bb67-3dfe0ecd0a89",
   "metadata": {},
   "outputs": [
    {
     "name": "stdout",
     "output_type": "stream",
     "text": [
      "4967\n"
     ]
    }
   ],
   "source": [
    "initialx,initialy = 0,0\n",
    "direction = 0 #0,1,2,3 = up,right,down,left\n",
    "m,n = len(data),len(data[0])\n",
    "for yidx,row in enumerate(data):\n",
    "    for xidx,cell in enumerate(row):\n",
    "        if cell == \"^\":\n",
    "            initialx,initialy = xidx,yidx\n",
    "posx,posy = initialx,initialy\n",
    "\n",
    "direction = 0 #0,1,2,3 = up,right,down,left\n",
    "m,n = len(data),len(data[0])\n",
    "\n",
    "def getPlace(x,y):\n",
    "    if 0 <= x < n and 0 <= y < m:\n",
    "        return int(data[y][x] == '#')\n",
    "    return -1\n",
    "\n",
    "def traverse(isPart2):\n",
    "    visits = set()\n",
    "    escaped = False\n",
    "    direction = 0\n",
    "    posx,posy = initialx,initialy\n",
    "    \n",
    "    while True:\n",
    "        tup = None\n",
    "        if isPart2:\n",
    "            tup = (posx,posy,direction)\n",
    "            if tup in visits:\n",
    "                break\n",
    "        else:\n",
    "            tup = (posx,posy)\n",
    "        visits.add(tup)\n",
    "        newx,newy = 0,0\n",
    "        if direction == 0:\n",
    "            newx,newy=posx,posy-1\n",
    "        elif direction == 1:\n",
    "            newx,newy=posx+1,posy\n",
    "        elif direction == 2:\n",
    "            newx,newy=posx,posy+1\n",
    "        elif direction == 3:\n",
    "            newx,newy=posx-1,posy\n",
    "        newplace = getPlace(newx,newy)\n",
    "        if newplace == -1:\n",
    "            escaped=True\n",
    "            break\n",
    "        if newplace == 1:\n",
    "            direction += 1\n",
    "            direction %= 4\n",
    "            continue\n",
    "        posx,posy=newx,newy\n",
    "    return list(visits),escaped\n",
    "    \n",
    "visits,_ = traverse(False)\n",
    "print(len(visits))"
   ]
  },
  {
   "cell_type": "code",
   "execution_count": 3,
   "id": "72bb6d69-f797-4265-ac10-7210a3fb7d33",
   "metadata": {},
   "outputs": [
    {
     "name": "stdout",
     "output_type": "stream",
     "text": [
      "1789\n"
     ]
    }
   ],
   "source": [
    "sm = 0\n",
    "for xidx, yidx in visits:\n",
    "    cell = data[yidx][xidx]\n",
    "    if cell == \"#\" or cell == '^':\n",
    "        continue\n",
    "    data[yidx] = data[yidx][0:xidx]+'#'+data[yidx][xidx+1:]\n",
    "    _,escaped = traverse(True)\n",
    "    data[yidx] = data[yidx][0:xidx]+'.'+data[yidx][xidx+1:]\n",
    "    if not escaped:\n",
    "        sm += 1\n",
    "print(sm)"
   ]
  },
  {
   "cell_type": "code",
   "execution_count": 5,
   "id": "e7cdd9e8-3312-4439-822e-69f1c212f1f8",
   "metadata": {},
   "outputs": [],
   "source": [
    "\n",
    "\n",
    "\n"
   ]
  },
  {
   "cell_type": "code",
   "execution_count": null,
   "id": "539eab8b-d538-4045-acd8-6ed9697989dd",
   "metadata": {},
   "outputs": [],
   "source": []
  }
 ],
 "metadata": {
  "kernelspec": {
   "display_name": "Python 3 (ipykernel)",
   "language": "python",
   "name": "python3"
  },
  "language_info": {
   "codemirror_mode": {
    "name": "ipython",
    "version": 3
   },
   "file_extension": ".py",
   "mimetype": "text/x-python",
   "name": "python",
   "nbconvert_exporter": "python",
   "pygments_lexer": "ipython3",
   "version": "3.10.15"
  }
 },
 "nbformat": 4,
 "nbformat_minor": 5
}
