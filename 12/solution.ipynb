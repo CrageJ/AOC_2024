{
 "cells": [
  {
   "cell_type": "code",
   "execution_count": 62,
   "id": "ec191ea8-8a88-4801-bc2b-e2469ff950ed",
   "metadata": {},
   "outputs": [],
   "source": [
    "from collections import *\n",
    "from heapq import *\n",
    "from functools import *\n",
    "\n",
    "data = None\n",
    "\n",
    "with open('input.txt', 'r') as file:\n",
    "    data = file.readlines()\n",
    "    data = [d.strip() for d in data]\n",
    "   # print(data)\n",
    "    "
   ]
  },
  {
   "cell_type": "code",
   "execution_count": 63,
   "id": "b56e65d0-f495-47a3-bc47-3ac0f0cbbd62",
   "metadata": {},
   "outputs": [],
   "source": [
    "m,n = len(data),len(data[0])\n",
    "def getPlant(x,y):\n",
    "    if 0 <= x < n and 0 <= y < m:\n",
    "        return data[y][x]\n",
    "    return \" \"\n",
    "\n",
    "\n",
    "def floodFill(group,x,y,originalPlant,groupCode):\n",
    "    plant = getPlant(x,y)\n",
    "    if plant == \" \":\n",
    "        return\n",
    "    if group[y][x] != -1:\n",
    "        return\n",
    "    if plant != originalPlant:\n",
    "        return\n",
    "    group[y][x] = groupCode\n",
    "    for nx,ny in [[x+1,y],[x-1,y],[x,y+1],[x,y-1]]:\n",
    "        floodFill(group,nx,ny,originalPlant,groupCode)\n",
    "    return\n",
    "\n",
    "def printGroup(group):\n",
    "    for row in group:\n",
    "        print(row)"
   ]
  },
  {
   "cell_type": "code",
   "execution_count": 64,
   "id": "e80e551a-551b-41d6-ae72-a8b3dea60213",
   "metadata": {},
   "outputs": [],
   "source": [
    "group = [[-1 for x in range(n)] for y in range(m)]\n",
    "groupInt = 0\n",
    "#find groups\n",
    "for yidx,row in enumerate(data):\n",
    "    for xidx,cell in enumerate(row):\n",
    "        if group[yidx][xidx] == -1:\n",
    "            floodFill(group,xidx,yidx,cell,groupInt)\n",
    "            groupInt += 1"
   ]
  },
  {
   "cell_type": "code",
   "execution_count": 65,
   "id": "64948848-df2d-4477-95d0-9b6938f4d502",
   "metadata": {},
   "outputs": [
    {
     "name": "stdout",
     "output_type": "stream",
     "text": [
      "1486324\n"
     ]
    }
   ],
   "source": [
    "groupAreas = Counter([g for row in group for g in row])\n",
    "# find perimiter\n",
    "groupPerim = defaultdict(int)\n",
    "for y,row in enumerate(group):\n",
    "    for x,cell in enumerate(row):\n",
    "        for nx,ny in [[x-1,y],[x+1,y],[x,y+1],[x,y-1]]:\n",
    "            if getPlant(nx,ny) == \" \" or group[ny][nx] != cell:\n",
    "                groupPerim[cell] += 1\n",
    "pricing = [groupAreas[group]*groupPerim[group] for group in range(groupInt)]\n",
    "print(sum(pricing))"
   ]
  },
  {
   "cell_type": "code",
   "execution_count": 67,
   "id": "d5cc6285-2e3d-4599-96e7-b6d619d7db6e",
   "metadata": {},
   "outputs": [
    {
     "name": "stdout",
     "output_type": "stream",
     "text": [
      "898684\n"
     ]
    }
   ],
   "source": [
    "groupSides = defaultdict(int)\n",
    "\n",
    "for y,row in enumerate(group):\n",
    "    for x,g in enumerate(row):\n",
    "        cell = getPlant(x,y)\n",
    "        up = getPlant(x,y-1)\n",
    "        down = getPlant(x,y+1)\n",
    "        left = getPlant(x-1,y)\n",
    "        right = getPlant(x+1,y)\n",
    "        tl = getPlant(x-1,y-1)\n",
    "        tr = getPlant(x+1,y-1)\n",
    "        bl = getPlant(x-1,y+1)\n",
    "        br = getPlant(x+1,y+1)\n",
    "        \n",
    "        if cell != left:\n",
    "            if down != cell: \n",
    "                groupSides[g] += 1\n",
    "            else:\n",
    "                if bl == cell:\n",
    "                    groupSides[g] += 1 \n",
    "        \n",
    "        if cell != right:\n",
    "            if down != cell:\n",
    "                groupSides[g] += 1\n",
    "            else:\n",
    "                if br == cell:\n",
    "                    groupSides[g] += 1\n",
    "\n",
    "        if cell != up:\n",
    "            if left != cell:\n",
    "                groupSides[g] += 1\n",
    "            else:\n",
    "                if tl == cell:\n",
    "                    groupSides[g] += 1\n",
    "        \n",
    "        if cell != down:\n",
    "            if left != cell:\n",
    "                groupSides[g] += 1\n",
    "            else:\n",
    "                if bl == cell:\n",
    "                    groupSides[g] += 1\n",
    "\n",
    "pricing = [groupAreas[group]*groupSides[group] for group in range(groupInt)]\n",
    "print(sum(pricing))"
   ]
  },
  {
   "cell_type": "code",
   "execution_count": null,
   "id": "908efaa9-6b22-454e-9652-24ad65c07bde",
   "metadata": {},
   "outputs": [],
   "source": []
  }
 ],
 "metadata": {
  "kernelspec": {
   "display_name": "Python 3 (ipykernel)",
   "language": "python",
   "name": "python3"
  },
  "language_info": {
   "codemirror_mode": {
    "name": "ipython",
    "version": 3
   },
   "file_extension": ".py",
   "mimetype": "text/x-python",
   "name": "python",
   "nbconvert_exporter": "python",
   "pygments_lexer": "ipython3",
   "version": "3.10.15"
  }
 },
 "nbformat": 4,
 "nbformat_minor": 5
}
